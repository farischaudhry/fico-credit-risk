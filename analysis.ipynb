{
 "cells": [
  {
   "cell_type": "code",
   "execution_count": 330,
   "metadata": {},
   "outputs": [],
   "source": [
    "import numpy as np \n",
    "import matplotlib.pyplot as plt \n",
    "import pandas as pd\n",
    "from sklearn.model_selection import train_test_split\n",
    "from sklearn.model_selection import cross_val_score\n",
    "from sklearn.tree import DecisionTreeClassifier\n",
    "from sklearn.linear_model import LogisticRegression\n",
    "from sklearn import tree\n",
    "from sklearn.metrics import f1_score, accuracy_score, roc_auc_score"
   ]
  },
  {
   "cell_type": "code",
   "execution_count": 331,
   "metadata": {},
   "outputs": [
    {
     "name": "stdout",
     "output_type": "stream",
     "text": [
      "<class 'pandas.core.frame.DataFrame'>\n",
      "RangeIndex: 10000 entries, 0 to 9999\n",
      "Data columns (total 8 columns):\n",
      " #   Column                    Non-Null Count  Dtype  \n",
      "---  ------                    --------------  -----  \n",
      " 0   customer_id               10000 non-null  int64  \n",
      " 1   credit_lines_outstanding  10000 non-null  int64  \n",
      " 2   loan_amt_outstanding      10000 non-null  float64\n",
      " 3   total_debt_outstanding    10000 non-null  float64\n",
      " 4   income                    10000 non-null  float64\n",
      " 5   years_employed            10000 non-null  int64  \n",
      " 6   fico_score                10000 non-null  int64  \n",
      " 7   default                   10000 non-null  int64  \n",
      "dtypes: float64(3), int64(5)\n",
      "memory usage: 625.1 KB\n"
     ]
    }
   ],
   "source": [
    "df = pd.read_csv('Loan_Data.csv')\n",
    "df.info()"
   ]
  },
  {
   "cell_type": "markdown",
   "metadata": {},
   "source": [
    "## Proability of Default"
   ]
  },
  {
   "cell_type": "code",
   "execution_count": 332,
   "metadata": {},
   "outputs": [],
   "source": [
    "X = df.drop(columns=['default', 'customer_id'])\n",
    "y = df['default']"
   ]
  },
  {
   "cell_type": "code",
   "execution_count": 333,
   "metadata": {},
   "outputs": [
    {
     "data": {
      "text/html": [
       "<div>\n",
       "<style scoped>\n",
       "    .dataframe tbody tr th:only-of-type {\n",
       "        vertical-align: middle;\n",
       "    }\n",
       "\n",
       "    .dataframe tbody tr th {\n",
       "        vertical-align: top;\n",
       "    }\n",
       "\n",
       "    .dataframe thead th {\n",
       "        text-align: right;\n",
       "    }\n",
       "</style>\n",
       "<table border=\"1\" class=\"dataframe\">\n",
       "  <thead>\n",
       "    <tr style=\"text-align: right;\">\n",
       "      <th></th>\n",
       "      <th>credit_lines_outstanding</th>\n",
       "      <th>loan_amt_outstanding</th>\n",
       "      <th>total_debt_outstanding</th>\n",
       "      <th>income</th>\n",
       "      <th>years_employed</th>\n",
       "      <th>fico_score</th>\n",
       "    </tr>\n",
       "  </thead>\n",
       "  <tbody>\n",
       "    <tr>\n",
       "      <th>4792</th>\n",
       "      <td>5</td>\n",
       "      <td>6872.275299</td>\n",
       "      <td>34570.154060</td>\n",
       "      <td>107248.81650</td>\n",
       "      <td>3</td>\n",
       "      <td>514</td>\n",
       "    </tr>\n",
       "    <tr>\n",
       "      <th>8854</th>\n",
       "      <td>3</td>\n",
       "      <td>3585.269719</td>\n",
       "      <td>10301.508670</td>\n",
       "      <td>68611.69532</td>\n",
       "      <td>6</td>\n",
       "      <td>551</td>\n",
       "    </tr>\n",
       "    <tr>\n",
       "      <th>6250</th>\n",
       "      <td>2</td>\n",
       "      <td>6370.938297</td>\n",
       "      <td>17663.289640</td>\n",
       "      <td>116174.59850</td>\n",
       "      <td>5</td>\n",
       "      <td>722</td>\n",
       "    </tr>\n",
       "    <tr>\n",
       "      <th>5936</th>\n",
       "      <td>4</td>\n",
       "      <td>3076.065127</td>\n",
       "      <td>10175.947590</td>\n",
       "      <td>47974.42736</td>\n",
       "      <td>5</td>\n",
       "      <td>603</td>\n",
       "    </tr>\n",
       "    <tr>\n",
       "      <th>425</th>\n",
       "      <td>0</td>\n",
       "      <td>4553.580228</td>\n",
       "      <td>942.588258</td>\n",
       "      <td>94258.82575</td>\n",
       "      <td>5</td>\n",
       "      <td>606</td>\n",
       "    </tr>\n",
       "    <tr>\n",
       "      <th>...</th>\n",
       "      <td>...</td>\n",
       "      <td>...</td>\n",
       "      <td>...</td>\n",
       "      <td>...</td>\n",
       "      <td>...</td>\n",
       "      <td>...</td>\n",
       "    </tr>\n",
       "    <tr>\n",
       "      <th>5734</th>\n",
       "      <td>0</td>\n",
       "      <td>5156.223930</td>\n",
       "      <td>5498.313957</td>\n",
       "      <td>78189.16432</td>\n",
       "      <td>3</td>\n",
       "      <td>632</td>\n",
       "    </tr>\n",
       "    <tr>\n",
       "      <th>5191</th>\n",
       "      <td>0</td>\n",
       "      <td>4176.678136</td>\n",
       "      <td>2875.619535</td>\n",
       "      <td>49886.56723</td>\n",
       "      <td>3</td>\n",
       "      <td>641</td>\n",
       "    </tr>\n",
       "    <tr>\n",
       "      <th>5390</th>\n",
       "      <td>0</td>\n",
       "      <td>4105.612488</td>\n",
       "      <td>6572.384556</td>\n",
       "      <td>81302.87422</td>\n",
       "      <td>3</td>\n",
       "      <td>576</td>\n",
       "    </tr>\n",
       "    <tr>\n",
       "      <th>860</th>\n",
       "      <td>3</td>\n",
       "      <td>4899.443593</td>\n",
       "      <td>17795.917300</td>\n",
       "      <td>81136.36579</td>\n",
       "      <td>2</td>\n",
       "      <td>554</td>\n",
       "    </tr>\n",
       "    <tr>\n",
       "      <th>7270</th>\n",
       "      <td>1</td>\n",
       "      <td>4271.574009</td>\n",
       "      <td>7221.052294</td>\n",
       "      <td>83179.75110</td>\n",
       "      <td>9</td>\n",
       "      <td>597</td>\n",
       "    </tr>\n",
       "  </tbody>\n",
       "</table>\n",
       "<p>6500 rows × 6 columns</p>\n",
       "</div>"
      ],
      "text/plain": [
       "      credit_lines_outstanding  loan_amt_outstanding  total_debt_outstanding  \\\n",
       "4792                         5           6872.275299            34570.154060   \n",
       "8854                         3           3585.269719            10301.508670   \n",
       "6250                         2           6370.938297            17663.289640   \n",
       "5936                         4           3076.065127            10175.947590   \n",
       "425                          0           4553.580228              942.588258   \n",
       "...                        ...                   ...                     ...   \n",
       "5734                         0           5156.223930             5498.313957   \n",
       "5191                         0           4176.678136             2875.619535   \n",
       "5390                         0           4105.612488             6572.384556   \n",
       "860                          3           4899.443593            17795.917300   \n",
       "7270                         1           4271.574009             7221.052294   \n",
       "\n",
       "            income  years_employed  fico_score  \n",
       "4792  107248.81650               3         514  \n",
       "8854   68611.69532               6         551  \n",
       "6250  116174.59850               5         722  \n",
       "5936   47974.42736               5         603  \n",
       "425    94258.82575               5         606  \n",
       "...            ...             ...         ...  \n",
       "5734   78189.16432               3         632  \n",
       "5191   49886.56723               3         641  \n",
       "5390   81302.87422               3         576  \n",
       "860    81136.36579               2         554  \n",
       "7270   83179.75110               9         597  \n",
       "\n",
       "[6500 rows x 6 columns]"
      ]
     },
     "execution_count": 333,
     "metadata": {},
     "output_type": "execute_result"
    }
   ],
   "source": [
    "X_train, X_test, y_train, y_test = train_test_split(X, y, test_size=0.35, random_state=42)\n",
    "X_train"
   ]
  },
  {
   "cell_type": "code",
   "execution_count": 334,
   "metadata": {},
   "outputs": [],
   "source": [
    "regr = LogisticRegression()\n",
    "regr.fit(X_train.values, y_train)\n",
    "\n",
    "y_predict = regr.predict(X_test.values)\n",
    "regr.predict_proba(X_test.values)"
   ]
  },
  {
   "cell_type": "code",
   "execution_count": 335,
   "metadata": {},
   "outputs": [
    {
     "data": {
      "text/plain": [
       "0.9624300559552358"
      ]
     },
     "execution_count": 335,
     "metadata": {},
     "output_type": "execute_result"
    }
   ],
   "source": [
    "f1_score(y_pred=y_predict, y_true=y_test)"
   ]
  },
  {
   "cell_type": "code",
   "execution_count": 336,
   "metadata": {},
   "outputs": [
    {
     "data": {
      "text/plain": [
       "0.9865714285714285"
      ]
     },
     "execution_count": 336,
     "metadata": {},
     "output_type": "execute_result"
    }
   ],
   "source": [
    "accuracy_score(y_pred=y_predict, y_true=y_test)"
   ]
  },
  {
   "cell_type": "code",
   "execution_count": 337,
   "metadata": {},
   "outputs": [
    {
     "data": {
      "text/plain": [
       "0.973883620692036"
      ]
     },
     "execution_count": 337,
     "metadata": {},
     "output_type": "execute_result"
    }
   ],
   "source": [
    "roc_auc_score(y_score=y_predict, y_true=y_test)"
   ]
  },
  {
   "cell_type": "code",
   "execution_count": 338,
   "metadata": {},
   "outputs": [],
   "source": [
    "RECOVERY_RATE = 0.1\n",
    "\n",
    "def expected_loss(loan_amount, credit_lines_outstanding, loan_amt_outstanding, total_debt_outstanding, income, years_employed, fico_score, model):\n",
    "    # prob of default\n",
    "    pd = model.predict_proba(np.array([credit_lines_outstanding, loan_amt_outstanding, total_debt_outstanding, income, years_employed, fico_score]).reshape(1, -1)).flat[1]\n",
    "    # PD x (1 - RR) x EAD = Expected Loss\n",
    "    return pd * (1 - RECOVERY_RATE) * loan_amount"
   ]
  },
  {
   "cell_type": "code",
   "execution_count": 339,
   "metadata": {},
   "outputs": [
    {
     "data": {
      "text/plain": [
       "900000.0"
      ]
     },
     "execution_count": 339,
     "metadata": {},
     "output_type": "execute_result"
    }
   ],
   "source": [
    "la = 1e6\n",
    "cred_line_outs = 4\n",
    "loan_amt_outs = 5e5\n",
    "total_debt_outs = 7e5\n",
    "income = 1e5\n",
    "years_employed = 7\n",
    "fico_score = 850\n",
    "expected_loss(la, cred_line_outs, loan_amt_outs, total_debt_outs, income, years_employed, fico_score, regr)"
   ]
  },
  {
   "cell_type": "markdown",
   "metadata": {},
   "source": [
    "## FICO Bucketing"
   ]
  },
  {
   "cell_type": "code",
   "execution_count": 340,
   "metadata": {},
   "outputs": [],
   "source": [
    "NUM_OF_BUCKETS = 5\n",
    "MAX_FICO_SCORE = 850\n",
    "FICO_OFFSET = 300"
   ]
  },
  {
   "cell_type": "code",
   "execution_count": 341,
   "metadata": {},
   "outputs": [],
   "source": [
    "def log_likelihood(n, k):\n",
    "    p = k/n\n",
    "    if (p==0 or p==1):\n",
    "        return 0\n",
    "    return k*np.log(p)+ (n-k)*np.log(1-p)"
   ]
  },
  {
   "cell_type": "code",
   "execution_count": 342,
   "metadata": {},
   "outputs": [
    {
     "name": "stdout",
     "output_type": "stream",
     "text": [
      "-4255.3774\n",
      "[850, 696, 640, 580, 520]\n"
     ]
    }
   ],
   "source": [
    "x = df['default'].to_list()\n",
    "y = df['fico_score'].to_list()\n",
    "n = len(df)\n",
    "\n",
    "default = [0 for i in range(MAX_FICO_SCORE + 1)]\n",
    "total = [0 for i in range(MAX_FICO_SCORE + 1)]\n",
    "\n",
    "for i in range(n):\n",
    "    default[y[i]-FICO_OFFSET] += x[i]\n",
    "    total[y[i]-FICO_OFFSET] += 1\n",
    "    \n",
    "for i in range(MAX_FICO_SCORE - FICO_OFFSET + 1):\n",
    "    default[i] += default[i-1]\n",
    "    total[i] += total[i-1]\n",
    "    \n",
    "dp = [[[-10**18, 0] for i in range(MAX_FICO_SCORE + 1)] for j in range(NUM_OF_BUCKETS + 1)]\n",
    "\n",
    "for i in range(NUM_OF_BUCKETS + 1):\n",
    "    for j in range(MAX_FICO_SCORE - FICO_OFFSET + 1):\n",
    "        if (i==0):\n",
    "            dp[i][j][0] = 0\n",
    "        else:\n",
    "            for k in range(j):\n",
    "                if (total[j]==total[k]):\n",
    "                    continue\n",
    "                if (i==1):\n",
    "                    dp[i][j][0] = log_likelihood(total[j], default[j])\n",
    "                else:\n",
    "                    if (dp[i][j][0] < (dp[i-1][k][0] + log_likelihood(total[j]-total[k], default[j] - default[k]))):\n",
    "                        dp[i][j][0] = log_likelihood(total[j]-total[k], default[j]-default[k]) + dp[i-1][k][0]\n",
    "                        dp[i][j][1] = k\n",
    "\n",
    "print(round(dp[NUM_OF_BUCKETS][550][0], 4))\n",
    "\n",
    "k = 550\n",
    "l = []\n",
    "for i in range(NUM_OF_BUCKETS, 0, -1):\n",
    "    l.append(k+300)\n",
    "    k = dp[i][k][1]\n",
    "\n",
    "print(l)\n"
   ]
  }
 ],
 "metadata": {
  "kernelspec": {
   "display_name": "Python 3",
   "language": "python",
   "name": "python3"
  },
  "language_info": {
   "codemirror_mode": {
    "name": "ipython",
    "version": 3
   },
   "file_extension": ".py",
   "mimetype": "text/x-python",
   "name": "python",
   "nbconvert_exporter": "python",
   "pygments_lexer": "ipython3",
   "version": "3.10.6"
  },
  "orig_nbformat": 4
 },
 "nbformat": 4,
 "nbformat_minor": 2
}
